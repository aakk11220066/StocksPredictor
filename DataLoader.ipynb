{
 "cells": [
  {
   "cell_type": "code",
   "execution_count": 1,
   "id": "73b612ef-b1cc-4497-a620-ed5e4ff8c750",
   "metadata": {},
   "outputs": [],
   "source": [
    "import pandas as pd\n",
    "import torch\n",
    "from itertools import chain\n",
    "from numpy import float64"
   ]
  },
  {
   "cell_type": "code",
   "execution_count": 2,
   "id": "1e55c727-c166-49e8-988a-9c06d2652c14",
   "metadata": {},
   "outputs": [],
   "source": [
    "def month_str_to_num(month: str):\n",
    "    return {\n",
    "        \"Jan\": 0,\n",
    "        \"Feb\": 1,\n",
    "        \"Mar\": 2,\n",
    "        \"Apr\": 3,\n",
    "        \"May\": 4,\n",
    "        \"Jun\": 5,\n",
    "        \"Jul\": 6,\n",
    "        \"Aug\": 7,\n",
    "        \"Sep\": 8,\n",
    "        \"Oct\": 9,\n",
    "        \"Nov\": 10,\n",
    "        \"Dec\": 11\n",
    "    }[month]\n",
    "\n",
    "def days_in_past_months(month: int, _is_leap_year: bool):\n",
    "    return sum([31, 28 if not _is_leap_year else 29, 31, 30, 31, 30, 31, 31, 30, 31, 30, 31][:month])\n",
    "\n",
    "def is_leap_year(year: int):\n",
    "    true_year = year + 1986\n",
    "    return true_year in [1988, 1992, 1996, 2000, 2004, 2008, 2012, 2016, 2020]\n",
    "\n",
    "def num_past_leap_years(year):\n",
    "    true_year = year + 1986\n",
    "    return len(list(filter(lambda list_year: list_year < true_year, [1988, 1992, 1996, 2000, 2004, 2008, 2012, 2016, 2020])))\n",
    "\n",
    "def days_in_past_years(year: int):\n",
    "    past_leap_years = num_past_leap_years(year)\n",
    "    return past_leap_years*366 + (year - past_leap_years)*365\n",
    "\n",
    "def date_to_days(date: str):\n",
    "    str_day, str_month, str_year = date.split(\"-\")\n",
    "    day = int(str_day)\n",
    "    month = month_str_to_num(str_month)\n",
    "    year = int(str_year) + (0 if int(str_year) >= 86 else 100) - 86\n",
    "    \n",
    "    return day \\\n",
    "        + days_in_past_months(month, is_leap_year(year)) \\\n",
    "        + days_in_past_years(year)"
   ]
  },
  {
   "cell_type": "code",
   "execution_count": 3,
   "id": "018de003-da22-4962-9a81-000c897b34ce",
   "metadata": {},
   "outputs": [],
   "source": [
    "def get_subsequences(data, sequences_length: int):\n",
    "    subsequences = [data[start_date:start_date + sequences_length] for start_date in range(len(data) - sequences_length)]\n",
    "    return torch.stack([torch.tensor(arr) for arr in subsequences])"
   ]
  },
  {
   "cell_type": "code",
   "execution_count": 32,
   "id": "b414fc10-f876-4f0c-bc3b-eb23060136d3",
   "metadata": {},
   "outputs": [],
   "source": [
    "def interpolate_missing_dates(data: pd.DataFrame):\n",
    "    missing_date_indices = [(idx, date - data[\"date\"][idx-1] - 1) for idx, date in enumerate(data[\"date\"]) if idx != 0 and date-1 != data[\"date\"][idx-1]]\n",
    "    fixed_indices = list(range(len(data)))\n",
    "    for idx, num_missing_dates in reversed(missing_date_indices):\n",
    "        fixed_indices[idx:idx] = [float64(\"nan\")] * num_missing_dates\n",
    "    return data.reindex(fixed_indices).interpolate().reset_index(drop=True)"
   ]
  },
  {
   "cell_type": "code",
   "execution_count": 52,
   "id": "f5a567cf-2796-4039-894a-9a93929060af",
   "metadata": {},
   "outputs": [],
   "source": [
    "def load_data(csv_file, sequences_length=50):\n",
    "    pd_data = pd.read_csv(csv_file)\n",
    "    pd_data.date = pd_data.date.apply(date_to_days)\n",
    "    pd_data = interpolate_missing_dates(pd_data)\n",
    "    date_sequences = get_subsequences(pd_data.values, sequences_length)\n",
    "    target_prices = torch.tensor([date_sequences[idx + 1][-1][1] for idx in range(len(date_sequences) - 1)])\n",
    "    date_sequences = date_sequences[:-1]\n",
    "    dataset = torch.utils.data.TensorDataset(date_sequences, target_prices)\n",
    "    train_data, test_data = torch.utils.data.random_split(\n",
    "        dataset=dataset, \n",
    "        lengths=(len(dataset) - len(dataset)//10, len(dataset)//10), \n",
    "        generator=torch.Generator().manual_seed(0)\n",
    "    )\n",
    "    return train_data, test_data"
   ]
  }
 ],
 "metadata": {
  "kernelspec": {
   "display_name": "Python 3",
   "language": "python",
   "name": "python3"
  },
  "language_info": {
   "codemirror_mode": {
    "name": "ipython",
    "version": 3
   },
   "file_extension": ".py",
   "mimetype": "text/x-python",
   "name": "python",
   "nbconvert_exporter": "python",
   "pygments_lexer": "ipython3",
   "version": "3.6.9"
  }
 },
 "nbformat": 4,
 "nbformat_minor": 5
}
