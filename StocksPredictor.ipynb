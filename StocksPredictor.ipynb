{
 "cells": [
  {
   "cell_type": "code",
   "execution_count": 1,
   "id": "3f9d8179-dfba-48d4-9ff1-230af2f1c6eb",
   "metadata": {},
   "outputs": [],
   "source": [
    "import torch\n",
    "import torch.nn as nn\n",
    "import pytorch_lightning as pl\n",
    "from torch_butterfly import Butterfly\n",
    "from DataLoader import load_data\n",
    "import matplotlib.pyplot as plt"
   ]
  },
  {
   "cell_type": "code",
   "execution_count": 2,
   "id": "09034d5a-1a87-442f-bc44-2a45ec46208c",
   "metadata": {},
   "outputs": [
    {
     "data": {
      "text/plain": [
       "'cuda'"
      ]
     },
     "execution_count": 2,
     "metadata": {},
     "output_type": "execute_result"
    }
   ],
   "source": [
    "DEVICE = \"cuda\" if torch.cuda.is_available() else \"cpu\"\n",
    "DEVICE"
   ]
  },
  {
   "cell_type": "code",
   "execution_count": 3,
   "id": "5740aa1a-0044-4303-a237-dc72bf9939fa",
   "metadata": {},
   "outputs": [],
   "source": [
    "def limited_test(model, loader, max_iterations=float(\"inf\"), device=\"cuda\" if torch.cuda.is_available() else \"cpu\"):\n",
    "    total_output, total_targets = torch.tensor([], device=\"cpu\"), torch.tensor([], device=\"cpu\")\n",
    "    \n",
    "    for iteration, data in enumerate(loader):\n",
    "        sample_dataseqs, sample_targets = data\n",
    "        sample_output = model(sample_dataseqs)\n",
    "        \n",
    "        total_output = torch.cat((total_output, sample_output.cpu()))\n",
    "        total_targets = torch.cat((total_targets, sample_targets.cpu()))\n",
    "    \n",
    "        if iteration >= max_iterations:\n",
    "            break\n",
    "    \n",
    "    return total_output, total_targets"
   ]
  },
  {
   "cell_type": "markdown",
   "id": "3e0ec21a-a4f1-4f9b-a912-901b5795d0c6",
   "metadata": {},
   "source": [
    "# Data"
   ]
  },
  {
   "cell_type": "code",
   "execution_count": 4,
   "id": "d9ba194b-5d15-4bef-98d7-002f73f7ed8a",
   "metadata": {},
   "outputs": [
    {
     "name": "stderr",
     "output_type": "stream",
     "text": [
      "/home/a.block/.local/lib/python3.6/site-packages/torch/utils/data/dataloader.py:481: UserWarning: This DataLoader will create 64 worker processes in total. Our suggested max number of worker in current system is 2, which is smaller than what this DataLoader is going to create. Please be aware that excessive worker creation might get DataLoader running slow or even freeze, lower the worker number to avoid potential slowness/freeze if necessary.\n",
      "  cpuset_checked))\n"
     ]
    }
   ],
   "source": [
    "train_data, test_data = load_data(\"spx.csv\", sequences_length=80)\n",
    "train_loader = torch.utils.data.DataLoader(train_data, batch_size=16, shuffle=True, num_workers=64)\n",
    "test_loader = torch.utils.data.DataLoader(test_data, batch_size=16, shuffle=True, num_workers=64)"
   ]
  },
  {
   "cell_type": "markdown",
   "id": "86100d06-3ab5-4cb2-94d9-0ec350268360",
   "metadata": {},
   "source": [
    "# Archetype"
   ]
  },
  {
   "cell_type": "code",
   "execution_count": 5,
   "id": "e4ac3948-a23c-4cd9-ab3b-eefd34bddd74",
   "metadata": {},
   "outputs": [],
   "source": [
    "# Abstract class, must overload __init__.layers\n",
    "# TODO: select loss_fn (MSE?)\n",
    "class MarketPredictor(pl.LightningModule):\n",
    "    def __init__(self):\n",
    "        super().__init__()\n",
    "        self.loss_fn = None\n",
    "        self.layers = None\n",
    "        self.feature_extractor = None\n",
    "        \n",
    "    def forward(self, x, device=\"cuda\" if torch.cuda.is_available() else \"cpu\"):\n",
    "        #assert None not in [self.loss_fn, self.layers, self.feature_extractor]\n",
    "        x = x.to(device)\n",
    "        x = x.unsqueeze(dim=1)\n",
    "        features = self.feature_extractor(x)\n",
    "        features = features.squeeze(dim=3).squeeze(dim=1)\n",
    "        return self.layers(features).squeeze(dim=1)\n",
    "        \n",
    "    def configure_optimizers(self):\n",
    "        optimizer = torch.optim.Adam(self.parameters(), lr=1e-3, weight_decay=0.01)\n",
    "        return optimizer\n",
    "\n",
    "    def training_step(self, train_batch, batch_idx):\n",
    "        features, target = train_batch\n",
    "        pred = self(features)\n",
    "        loss = self.loss_fn(target, pred)\n",
    "        \n",
    "        return loss\n",
    "    \n",
    "    def train_dataloader(self):\n",
    "        return train_loader"
   ]
  },
  {
   "cell_type": "markdown",
   "id": "703ed7c5-c370-4eb1-80cd-be1b4b1974b1",
   "metadata": {},
   "source": [
    "# Basic MLP"
   ]
  },
  {
   "cell_type": "code",
   "execution_count": 6,
   "id": "f391726b-5006-4f84-8c9b-098d31192f11",
   "metadata": {},
   "outputs": [],
   "source": [
    "\n",
    "class BasicMLP(MarketPredictor):\n",
    "    def __init__(self, device=\"cuda\" if torch.cuda.is_available() else \"cpu\"):\n",
    "        super().__init__()\n",
    "        self.feature_extractor = nn.Sequential(\n",
    "            nn.Conv2d(in_channels=1, out_channels=40, kernel_size=(3,2), dtype=torch.float64, device=device),  # size: 80 -> 78\n",
    "            nn.ReLU(),\n",
    "            nn.Conv2d(in_channels=40, out_channels=20, kernel_size=(3,1), dtype=torch.float64, device=device),  # size: 78 -> 76\n",
    "            nn.ReLU(),\n",
    "            nn.Conv2d(in_channels=20, out_channels=10, kernel_size=(3,1), dtype=torch.float64, device=device),  # size: 76 -> 74\n",
    "            nn.ReLU(),\n",
    "            nn.Conv2d(in_channels=10, out_channels=5, kernel_size=(3,1), dtype=torch.float64, device=device),  # size: 74 -> 72\n",
    "            nn.ReLU(),\n",
    "            nn.Conv2d(in_channels=5, out_channels=1, kernel_size=(3,1), dtype=torch.float64, device=device)  # size: 72 -> 70\n",
    "        )\n",
    "        self.loss_fn = nn.MSELoss()\n",
    "        self.layers = nn.Sequential(\n",
    "            nn.Linear(70, 50, dtype=torch.float64, device=device),\n",
    "            nn.ReLU(),\n",
    "            nn.Linear(50, 10, dtype=torch.float64, device=device),\n",
    "            nn.ReLU(),\n",
    "            nn.Linear(10, 1, dtype=torch.float64, device=device)\n",
    "        )"
   ]
  },
  {
   "cell_type": "code",
   "execution_count": 17,
   "id": "a2b3c42a-a8bd-4880-af42-122de491769c",
   "metadata": {},
   "outputs": [],
   "source": [
    "model = BasicMLP()\n",
    "trainer = pl.Trainer(gpus=1, max_epochs=30)\n",
    "trainer.fit(model, train_loader)"
   ]
  },
  {
   "cell_type": "code",
   "execution_count": 8,
   "id": "b1769d1e-7771-47e8-b7d4-0f129d5788f2",
   "metadata": {},
   "outputs": [],
   "source": [
    "# load model, if necessary\n",
    "#model = BasicMLP.load_from_checkpoint(checkpoint_path=\"lightning_logs/version_29/checkpoints/epoch=29-step=19889.ckpt\")"
   ]
  },
  {
   "cell_type": "code",
   "execution_count": 8,
   "id": "8ef0f97f-ee89-4669-bb29-da0a4bf977e5",
   "metadata": {},
   "outputs": [
    {
     "name": "stdout",
     "output_type": "stream",
     "text": [
      "tensor([ 410.8533,  291.5145, 1446.8936,  ...,  240.5177, 2127.6576,\n",
      "        1003.7026], dtype=torch.float64, grad_fn=<CatBackward>)\n",
      "tensor([ 412.4800,  295.3200, 1450.5833,  ...,  245.5833, 2151.3300,\n",
      "         990.6400], dtype=torch.float64)\n",
      "MSE = 627999.3003460545\n",
      "STD = 21.881127655537888\n",
      "mean = 7.397908985333262\n"
     ]
    }
   ],
   "source": [
    "model_output, model_target = limited_test(model=model, loader=test_loader)\n",
    "print(f\"MSE = {(model_output-model_target) @ (model_output-model_target)}\")\n",
    "print(f\"STD = {torch.std(model_target - model_output)}\")\n",
    "print(f\"mean = {torch.mean(model_target - model_output)}\")"
   ]
  },
  {
   "cell_type": "markdown",
   "id": "b59376ac-7993-4ea2-a52c-d750ecec7175",
   "metadata": {},
   "source": [
    "# Butterfly JL"
   ]
  },
  {
   "cell_type": "code",
   "execution_count": 9,
   "id": "517142b3-bb62-4dc0-878b-f4a07b40505c",
   "metadata": {},
   "outputs": [],
   "source": [
    "def extract_matrix_from_linear_transform(linear_transform, in_size: int, device=\"cuda\" if torch.cuda.is_available() else \"cpu\"):\n",
    "    # Collect i-th column of matrix by applying linear_transform to i-th member of the standard basis\n",
    "    return torch.stack([linear_transform(standard_basis_vector) for standard_basis_vector in torch.eye(in_size, device=device)], dim=1)"
   ]
  },
  {
   "cell_type": "code",
   "execution_count": 10,
   "id": "5252df57-f0be-4eaf-8530-e8fa94366f7e",
   "metadata": {
    "tags": []
   },
   "outputs": [],
   "source": [
    "class ButterflySELL(nn.Module):\n",
    "    def __init__(self, replaced_linear_layer: nn.Linear, intrinsic_size: int = None, device=\"cuda\" if torch.cuda.is_available() else \"cpu\"):\n",
    "        \"\"\"\n",
    "        A linear layer W may be replaced with this encoder-decoder module (based on Johnsonn-Lindenstrauss) with identical in- and out- sizes.\n",
    "        :param replaced_linear_layer: linear layer to replace\n",
    "        :param intrinsic_size: underlying \"true\" size the data should be (i.e. the size of the encoder-decoder middle layer)\n",
    "        \"\"\"\n",
    "        super().__init__()\n",
    "        \n",
    "        in_size = replaced_linear_layer.in_features\n",
    "        out_size = replaced_linear_layer.out_features\n",
    "        if not intrinsic_size:\n",
    "            #intrinsic_size = int(math.log2(in_size))\n",
    "            intrinsic_size = max(min(in_size, out_size) // 4, max(in_size, out_size) // 8, 2)\n",
    "        \n",
    "        self.layers = nn.Sequential(\n",
    "            Butterfly(in_size=in_size, out_size=intrinsic_size, bias=False).to(device),                                  #J2.T\n",
    "            nn.Linear(in_features=intrinsic_size, out_features=intrinsic_size, dtype=torch.float, device=device),                           #W_shrunken\n",
    "            Butterfly(in_size=intrinsic_size, out_size=out_size, bias=False).to(device)                                  #J1\n",
    "        )\n",
    "        \n",
    "        # extract underlying matrices from J1 and J2.T\n",
    "        J2 = extract_matrix_from_linear_transform(self.layers[0], in_size=in_size).T\n",
    "        J1 = extract_matrix_from_linear_transform(self.layers[2], in_size=intrinsic_size)\n",
    "        \n",
    "        # correct W_shrunken's initial tensor to J1.T @ W @ J2\n",
    "        self.layers[1].weight = nn.Parameter(J1.T @ replaced_linear_layer.weight.data.to(torch.float) @ J2)\n",
    "        #self.layers[1].bias = nn.Parameter(J1.T @ replaced_linear_layer.bias.data @ J2)\n",
    "    \n",
    "    def forward(self, x):\n",
    "        x = x.to(torch.float)\n",
    "        return self.layers(x).to(torch.double)"
   ]
  },
  {
   "cell_type": "code",
   "execution_count": 11,
   "id": "6914f620-aebb-4e56-8f88-4d8b15889a7f",
   "metadata": {},
   "outputs": [],
   "source": [
    "linear_layers = [model.layers[0], model.layers[2], model.layers[4]]\n",
    "assert(all([type(layer) == torch.nn.modules.linear.Linear for layer in linear_layers]))\n",
    "del linear_layers"
   ]
  },
  {
   "cell_type": "code",
   "execution_count": 12,
   "id": "edd05967-8b69-49b1-93c3-0154586055fc",
   "metadata": {},
   "outputs": [],
   "source": [
    "for layer_idx in [0,2,4]:\n",
    "    model.layers[layer_idx] = ButterflySELL(model.layers[layer_idx])"
   ]
  },
  {
   "cell_type": "code",
   "execution_count": 13,
   "id": "2b030322-cf7c-40ee-a30f-c39577e27b9c",
   "metadata": {},
   "outputs": [
    {
     "name": "stdout",
     "output_type": "stream",
     "text": [
      "MSE = 1814521637.6405206\n",
      "STD = 617.315806694106\n",
      "mean = 1076.8405824474219\n"
     ]
    }
   ],
   "source": [
    "model_output, model_target = limited_test(model=model, loader=test_loader)\n",
    "print(f\"MSE = {(model_output-model_target) @ (model_output-model_target)}\")\n",
    "print(f\"STD = {torch.std(model_target - model_output)}\")\n",
    "print(f\"mean = {torch.mean(model_target - model_output)}\")"
   ]
  },
  {
   "cell_type": "markdown",
   "id": "e2ea8d0e-b884-411d-9a7b-ce9b945fc35b",
   "metadata": {},
   "source": [
    "# Butterfly encoder-decoder"
   ]
  },
  {
   "cell_type": "code",
   "execution_count": 14,
   "id": "651d2316-59bd-4918-92cd-920704bfe22c",
   "metadata": {},
   "outputs": [
    {
     "name": "stderr",
     "output_type": "stream",
     "text": [
      "GPU available: True, used: True\n",
      "TPU available: False, using: 0 TPU cores\n",
      "IPU available: False, using: 0 IPUs\n",
      "LOCAL_RANK: 0 - CUDA_VISIBLE_DEVICES: [0]\n",
      "\n",
      "  | Name              | Type       | Params\n",
      "-------------------------------------------------\n",
      "0 | feature_extractor | Sequential | 3.5 K \n",
      "1 | loss_fn           | MSELoss    | 0     \n",
      "2 | layers            | Sequential | 3.5 K \n",
      "-------------------------------------------------\n",
      "7.0 K     Trainable params\n",
      "0         Non-trainable params\n",
      "7.0 K     Total params\n",
      "0.028     Total estimated model params size (MB)\n"
     ]
    },
    {
     "data": {
      "application/vnd.jupyter.widget-view+json": {
       "model_id": "dacd6d45361744e898ef138e80827778",
       "version_major": 2,
       "version_minor": 0
      },
      "text/plain": [
       "Training: -1it [00:00, ?it/s]"
      ]
     },
     "metadata": {},
     "output_type": "display_data"
    }
   ],
   "source": [
    "trainer = pl.Trainer(gpus=1, max_epochs=30)\n",
    "trainer.fit(model, train_loader)"
   ]
  },
  {
   "cell_type": "code",
   "execution_count": null,
   "id": "20947b76-cc44-4c9f-808c-539201d74ad1",
   "metadata": {},
   "outputs": [],
   "source": [
    "# load model, if necessary\n",
    "#model = BasicMLP()\n",
    "#for layer_idx in [0,2,4]:\n",
    "#    model.layers[layer_idx] = ButterflySELL(model.layers[layer_idx])\n",
    "#model = model.load_from_checkpoint(checkpoint_path=\"lightning_logs/version_32/checkpoints/epoch=29-step=19889.ckpt\")"
   ]
  },
  {
   "cell_type": "code",
   "execution_count": 29,
   "id": "6a8007d0-b3a2-4b48-828a-aaff5b4afde0",
   "metadata": {},
   "outputs": [
    {
     "name": "stdout",
     "output_type": "stream",
     "text": [
      "MSE = 336249.6474888823\n",
      "STD = 16.83671701760607\n",
      "mean = 1.4855059475944608\n"
     ]
    }
   ],
   "source": [
    "model_output, model_target = limited_test(model=model, loader=test_loader)\n",
    "print(f\"MSE = {(model_output-model_target) @ (model_output-model_target)}\")\n",
    "print(f\"STD = {torch.std(model_target - model_output)}\")\n",
    "print(f\"mean = {torch.mean(model_target - model_output)}\")"
   ]
  },
  {
   "cell_type": "markdown",
   "id": "9c2b97bf-0b1f-4500-a8a9-948e94fffaeb",
   "metadata": {},
   "source": [
    "# Butterfly encoder-decoder with nonlinearities"
   ]
  },
  {
   "cell_type": "code",
   "execution_count": 30,
   "id": "06f1e677-af2f-4583-ac95-9beb99aa32d9",
   "metadata": {},
   "outputs": [],
   "source": [
    "for linear_layer_idx in [0,2,4]:\n",
    "    butterfly_sequential = model.layers[linear_layer_idx].layers\n",
    "    model.layers[linear_layer_idx].layers = nn.Sequential(\n",
    "        butterfly_sequential[0],\n",
    "        nn.ReLU(),\n",
    "        butterfly_sequential[1],\n",
    "        nn.ReLU(),\n",
    "        butterfly_sequential[2]\n",
    "    )"
   ]
  },
  {
   "cell_type": "code",
   "execution_count": null,
   "id": "962fa112-da94-4826-8377-b94213b57bd1",
   "metadata": {},
   "outputs": [],
   "source": [
    "# load model, if necessary\n",
    "#model = BasicMLP()\n",
    "#for layer_idx in [0,2,4]:\n",
    "#    model.layers[layer_idx] = ButterflySELL(model.layers[layer_idx])\n",
    "#model = model.load_from_checkpoint(checkpoint_path=\"lightning_logs/version_32/checkpoints/epoch=29-step=19889.ckpt\")"
   ]
  },
  {
   "cell_type": "code",
   "execution_count": 31,
   "id": "14c93218-bac2-44eb-bcbc-696a6f70a581",
   "metadata": {},
   "outputs": [
    {
     "name": "stderr",
     "output_type": "stream",
     "text": [
      "GPU available: True, used: True\n",
      "TPU available: False, using: 0 TPU cores\n",
      "IPU available: False, using: 0 IPUs\n",
      "LOCAL_RANK: 0 - CUDA_VISIBLE_DEVICES: [0]\n",
      "\n",
      "  | Name              | Type       | Params\n",
      "-------------------------------------------------\n",
      "0 | feature_extractor | Sequential | 3.5 K \n",
      "1 | loss_fn           | MSELoss    | 0     \n",
      "2 | layers            | Sequential | 3.5 K \n",
      "-------------------------------------------------\n",
      "7.0 K     Trainable params\n",
      "0         Non-trainable params\n",
      "7.0 K     Total params\n",
      "0.028     Total estimated model params size (MB)\n"
     ]
    },
    {
     "data": {
      "application/vnd.jupyter.widget-view+json": {
       "model_id": "385e3ab17ab341c88cea927200ad24ec",
       "version_major": 2,
       "version_minor": 0
      },
      "text/plain": [
       "Training: -1it [00:00, ?it/s]"
      ]
     },
     "metadata": {},
     "output_type": "display_data"
    }
   ],
   "source": [
    "trainer = pl.Trainer(gpus=1, max_epochs=30)\n",
    "trainer.fit(model, train_loader)"
   ]
  },
  {
   "cell_type": "code",
   "execution_count": 34,
   "id": "546dd517-dbb6-4559-b758-27a271471c39",
   "metadata": {},
   "outputs": [
    {
     "name": "stdout",
     "output_type": "stream",
     "text": [
      "MSE = 329155.8017929223\n",
      "STD = 16.6508277388509\n",
      "mean = -1.5506381859425855\n"
     ]
    }
   ],
   "source": [
    "model_output, model_target = limited_test(model=model, loader=test_loader)\n",
    "print(f\"MSE = {(model_output-model_target) @ (model_output-model_target)}\")\n",
    "print(f\"STD = {torch.std(model_target - model_output)}\")\n",
    "print(f\"mean = {torch.mean(model_target - model_output)}\")"
   ]
  },
  {
   "cell_type": "markdown",
   "id": "2e407b89-3d77-4fa1-98af-125a63670704",
   "metadata": {},
   "source": [
    "# Linear encoder-decoder"
   ]
  },
  {
   "cell_type": "code",
   "execution_count": 36,
   "id": "23162a05-dc75-44b0-a2d4-780ea5bca16d",
   "metadata": {},
   "outputs": [],
   "source": [
    "\n",
    "class LinearAutoencoders(MarketPredictor):\n",
    "    def __init__(self, device = \"cuda\" if torch.cuda.is_available() else \"cpu\"):\n",
    "        super().__init__()\n",
    "        self.feature_extractor = nn.Sequential(\n",
    "            nn.Conv2d(in_channels=1, out_channels=40, kernel_size=(3,2), dtype=torch.float64, device=device),  # size: 80 -> 78\n",
    "            nn.ReLU(),\n",
    "            nn.Conv2d(in_channels=40, out_channels=20, kernel_size=(3,1), dtype=torch.float64, device=device),  # size: 78 -> 76\n",
    "            nn.ReLU(),\n",
    "            nn.Conv2d(in_channels=20, out_channels=10, kernel_size=(3,1), dtype=torch.float64, device=device),  # size: 76 -> 74\n",
    "            nn.ReLU(),\n",
    "            nn.Conv2d(in_channels=10, out_channels=5, kernel_size=(3,1), dtype=torch.float64, device=device),  # size: 74 -> 72\n",
    "            nn.ReLU(),\n",
    "            nn.Conv2d(in_channels=5, out_channels=1, kernel_size=(3,1), dtype=torch.float64, device=device)  # size: 72 -> 70\n",
    "        )\n",
    "        self.loss_fn = nn.MSELoss()\n",
    "        self.layers = nn.Sequential(\n",
    "            nn.Linear(70, 35, dtype=torch.float64, device=device),\n",
    "            nn.Linear(35, 50, dtype=torch.float64, device=device),\n",
    "            nn.ReLU(),\n",
    "            nn.Linear(50, 5, dtype=torch.float64, device=device),\n",
    "            nn.Linear(5, 10, dtype=torch.float64, device=device),\n",
    "            nn.ReLU(),\n",
    "            nn.Linear(10, 1, dtype=torch.float64, device=device)\n",
    "        )"
   ]
  },
  {
   "cell_type": "code",
   "execution_count": null,
   "id": "6f90e121-4829-478d-9d26-5f1e755fd1c1",
   "metadata": {},
   "outputs": [],
   "source": [
    "# load model, if necessary\n",
    "#model = LinearAutoencoders()\n",
    "#model = LinearAutoencoders.load_from_checkpoint(checkpoint_path=\"lightning_logs/version_34/checkpoints/epoch=29-step=19889.ckpt\")"
   ]
  },
  {
   "cell_type": "code",
   "execution_count": 37,
   "id": "6a73e48b-9817-4fb4-9f9c-cc7ebd6b9610",
   "metadata": {},
   "outputs": [
    {
     "name": "stderr",
     "output_type": "stream",
     "text": [
      "GPU available: True, used: True\n",
      "TPU available: False, using: 0 TPU cores\n",
      "IPU available: False, using: 0 IPUs\n",
      "LOCAL_RANK: 0 - CUDA_VISIBLE_DEVICES: [0]\n",
      "\n",
      "  | Name              | Type       | Params\n",
      "-------------------------------------------------\n",
      "0 | feature_extractor | Sequential | 3.5 K \n",
      "1 | loss_fn           | MSELoss    | 0     \n",
      "2 | layers            | Sequential | 4.6 K \n",
      "-------------------------------------------------\n",
      "8.1 K     Trainable params\n",
      "0         Non-trainable params\n",
      "8.1 K     Total params\n",
      "0.032     Total estimated model params size (MB)\n"
     ]
    },
    {
     "data": {
      "application/vnd.jupyter.widget-view+json": {
       "model_id": "0e2da1a5b01d4770a8a4691c520ce9b6",
       "version_major": 2,
       "version_minor": 0
      },
      "text/plain": [
       "Training: -1it [00:00, ?it/s]"
      ]
     },
     "metadata": {},
     "output_type": "display_data"
    }
   ],
   "source": [
    "linear_ED_model = LinearAutoencoders()\n",
    "trainer = pl.Trainer(gpus=1, max_epochs=30)\n",
    "trainer.fit(linear_ED_model, train_loader)"
   ]
  },
  {
   "cell_type": "code",
   "execution_count": 38,
   "id": "14741bc5-7455-4dad-8357-2c6ba3cb4729",
   "metadata": {},
   "outputs": [
    {
     "data": {
      "text/plain": [
       "LinearAutoencoders(\n",
       "  (feature_extractor): Sequential(\n",
       "    (0): Conv2d(1, 40, kernel_size=(3, 2), stride=(1, 1))\n",
       "    (1): ReLU()\n",
       "    (2): Conv2d(40, 20, kernel_size=(3, 1), stride=(1, 1))\n",
       "    (3): ReLU()\n",
       "    (4): Conv2d(20, 10, kernel_size=(3, 1), stride=(1, 1))\n",
       "    (5): ReLU()\n",
       "    (6): Conv2d(10, 5, kernel_size=(3, 1), stride=(1, 1))\n",
       "    (7): ReLU()\n",
       "    (8): Conv2d(5, 1, kernel_size=(3, 1), stride=(1, 1))\n",
       "  )\n",
       "  (loss_fn): MSELoss()\n",
       "  (layers): Sequential(\n",
       "    (0): Linear(in_features=70, out_features=35, bias=True)\n",
       "    (1): Linear(in_features=35, out_features=50, bias=True)\n",
       "    (2): ReLU()\n",
       "    (3): Linear(in_features=50, out_features=5, bias=True)\n",
       "    (4): Linear(in_features=5, out_features=10, bias=True)\n",
       "    (5): ReLU()\n",
       "    (6): Linear(in_features=10, out_features=1, bias=True)\n",
       "  )\n",
       ")"
      ]
     },
     "execution_count": 38,
     "metadata": {},
     "output_type": "execute_result"
    }
   ],
   "source": [
    "linear_ED_model.cuda()"
   ]
  },
  {
   "cell_type": "code",
   "execution_count": 39,
   "id": "4e5d024d-a258-480e-b3d6-8e395db215c6",
   "metadata": {},
   "outputs": [
    {
     "name": "stdout",
     "output_type": "stream",
     "text": [
      "MSE = 699107.8794139728\n",
      "STD = 23.469228254428575\n",
      "mean = -6.567578513115662\n"
     ]
    }
   ],
   "source": [
    "model_output, model_target = limited_test(model=linear_ED_model, loader=test_loader)\n",
    "print(f\"MSE = {(model_output-model_target) @ (model_output-model_target)}\")\n",
    "print(f\"STD = {torch.std(model_target - model_output)}\")\n",
    "print(f\"mean = {torch.mean(model_target - model_output)}\")"
   ]
  }
 ],
 "metadata": {
  "kernelspec": {
   "display_name": "Python 3",
   "language": "python",
   "name": "python3"
  },
  "language_info": {
   "codemirror_mode": {
    "name": "ipython",
    "version": 3
   },
   "file_extension": ".py",
   "mimetype": "text/x-python",
   "name": "python",
   "nbconvert_exporter": "python",
   "pygments_lexer": "ipython3",
   "version": "3.6.9"
  }
 },
 "nbformat": 4,
 "nbformat_minor": 5
}
